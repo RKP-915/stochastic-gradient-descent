{
  "nbformat": 4,
  "nbformat_minor": 0,
  "metadata": {
    "colab": {
      "provenance": []
    },
    "kernelspec": {
      "name": "python3",
      "display_name": "Python 3"
    },
    "language_info": {
      "name": "python"
    }
  },
  "cells": [
    {
      "cell_type": "code",
      "execution_count": 2,
      "metadata": {
        "id": "cOeA9Ly8Vl7T"
      },
      "outputs": [],
      "source": [
        "import numpy as np"
      ]
    },
    {
      "cell_type": "code",
      "source": [
        "np.random.seed(42)\n",
        "X = 2 * np.random.rand(100, 1)\n",
        "Y = 4 + 3 * X + np.random.randn(100, 1)"
      ],
      "metadata": {
        "id": "AylaO-XjVw-z"
      },
      "execution_count": 3,
      "outputs": []
    },
    {
      "cell_type": "code",
      "source": [
        "X_b = np.c_[np.ones((100, 1)), X]"
      ],
      "metadata": {
        "id": "9nNCw17qWJF5"
      },
      "execution_count": 4,
      "outputs": []
    },
    {
      "cell_type": "code",
      "source": [
        "theta = np.random.randn(2, 1)\n",
        "learning_rate = 0.1\n",
        "n_epochs = 50"
      ],
      "metadata": {
        "id": "i79DuS3LWVpP"
      },
      "execution_count": 5,
      "outputs": []
    },
    {
      "cell_type": "code",
      "source": [
        "loss_history = []\n",
        "theta_history = []\n",
        "\n",
        "for epoch in range(n_epochs):\n",
        "    for i in range(len(X_b)):\n",
        "        random_index = np.random.randint(len(X_b))\n",
        "        xi = X_b[random_index:random_index+1]\n",
        "        yi = Y[random_index:random_index+1]\n",
        "\n",
        "        gradients = 2 * xi.T.dot(xi.dot(theta) - yi)\n",
        "        theta = theta - learning_rate * gradients\n",
        "\n",
        "    loss = np.mean((X_b.dot(theta) - Y)**2)\n",
        "    loss_history.append(loss)\n",
        "    theta_history.append(theta.copy())"
      ],
      "metadata": {
        "id": "emI5bB-fW2GP"
      },
      "execution_count": 8,
      "outputs": []
    },
    {
      "cell_type": "code",
      "metadata": {
        "id": "emI5bB-f2GP"
      },
      "source": [
        "theta_history = np.array(theta_history)\n",
        "loss_history = np.array(loss_history)"
      ],
      "execution_count": 9,
      "outputs": []
    },
    {
      "cell_type": "markdown",
      "source": [
        "final parameters"
      ],
      "metadata": {
        "id": "cGIkJ2zlO2HT"
      }
    },
    {
      "cell_type": "code",
      "source": [
        "print(f\"theta0 : {theta[0][0]:.4f}\")\n",
        "print(f\"theta1 : {theta[1][0]:.4f}\")"
      ],
      "metadata": {
        "colab": {
          "base_uri": "https://localhost:8080/"
        },
        "id": "1C4L1iZ-OvDB",
        "outputId": "15920a08-f41b-4692-a888-667dc1c7575c"
      },
      "execution_count": 10,
      "outputs": [
        {
          "output_type": "stream",
          "name": "stdout",
          "text": [
            "theta0 : 4.7183\n",
            "theta1 : 3.0554\n"
          ]
        }
      ]
    },
    {
      "cell_type": "markdown",
      "source": [
        "charts"
      ],
      "metadata": {
        "id": "7rNZnk4GPS4z"
      }
    },
    {
      "cell_type": "code",
      "source": [
        "import matplotlib.pyplot as plt\n",
        "\n",
        "plt.figure(figsize=(15,5))"
      ],
      "metadata": {
        "id": "D8h1tJCqPUqE",
        "colab": {
          "base_uri": "https://localhost:8080/"
        },
        "outputId": "89e7658f-7197-467a-cd37-dbb11028794d"
      },
      "execution_count": 12,
      "outputs": [
        {
          "output_type": "execute_result",
          "data": {
            "text/plain": [
              "<Figure size 1500x500 with 0 Axes>"
            ]
          },
          "metadata": {},
          "execution_count": 12
        },
        {
          "output_type": "display_data",
          "data": {
            "text/plain": [
              "<Figure size 1500x500 with 0 Axes>"
            ]
          },
          "metadata": {}
        }
      ]
    },
    {
      "cell_type": "code",
      "source": [
        "plt.subplot(1, 3, 1)\n",
        "plt.scatter(X, Y, alpha=0.7)\n",
        "plt.plot(X, X_b.dot(theta), 'r-', linewidth=2, label='regression line')\n",
        "plt.xlabel('x')\n",
        "plt.ylabel('y')\n",
        "plt.title('data & rl')\n",
        "plt.legend()"
      ],
      "metadata": {
        "id": "mBUq_vESP5j5",
        "colab": {
          "base_uri": "https://localhost:8080/"
        },
        "outputId": "36b674aa-db0d-48ee-d654-4ef3bff9ff83"
      },
      "execution_count": 13,
      "outputs": [
        {
          "output_type": "execute_result",
          "data": {
            "text/plain": [
              "<matplotlib.legend.Legend at 0x7f3cb26df320>"
            ]
          },
          "metadata": {},
          "execution_count": 13
        },
        {
          "output_type": "display_data",
          "data": {
            "text/plain": [
              "<Figure size 640x480 with 1 Axes>"
            ],
            "image/png": "[encoded data removed]"
          },
          "metadata": {}
        }
      ]
    },
    {
      "cell_type": "code",
      "source": [
        "plt.subplot(1, 3, 2)\n",
        "plt.plot(theta_history[:, 0], label='theta0')\n",
        "plt.plot(theta_history[:, 1], label='theta1')\n",
        "plt.xlabel('number of updates')\n",
        "plt.ylabel('parameter value')\n",
        "plt.title('parameter changes in SGD')"
      ],
      "metadata": {
        "id": "9Z1gYKtbRfDP"
      },
      "execution_count": null,
      "outputs": []
    },
    {
      "cell_type": "code",
      "source": [
        "plt.subplot(1, 3, 3)\n",
        "plt.plot(loss_history)\n",
        "plt.xlabel('number of updates')\n",
        "plt.ylabel('loss')\n",
        "plt.title('loss changes in SGD')\n",
        "plt.yscale('log')\n",
        "\n",
        "plt.tight_layout()\n",
        "plt.show()"
      ],
      "metadata": {
        "id": "nM4X0qlBQbod"
      },
      "execution_count": null,
      "outputs": []
    }
  ]
}